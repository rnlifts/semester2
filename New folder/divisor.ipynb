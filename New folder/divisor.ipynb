def divisor():
 number=int(input("enter a number "))
 for i in range(1,number):
    divisor=number%i
    if divisor==0 and i!=1:
      print(f"the smallest divisor is {i}")
      break
    else:
       continue
divisor()

    
    

